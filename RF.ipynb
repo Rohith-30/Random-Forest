{
 "cells": [
  {
   "cell_type": "markdown",
   "id": "c7624a02",
   "metadata": {},
   "source": [
    "###ASSIGNMENT-2"
   ]
  },
  {
   "cell_type": "markdown",
   "id": "5c52563d",
   "metadata": {},
   "source": [
    "##RANDOM FOREST"
   ]
  },
  {
   "cell_type": "markdown",
   "id": "8ca70a52",
   "metadata": {},
   "source": [
    "Importing the required packages:"
   ]
  },
  {
   "cell_type": "code",
   "execution_count": 451,
   "id": "f9576aea",
   "metadata": {},
   "outputs": [],
   "source": [
    "import numpy as np\n",
    "import pandas as pd\n",
    "from sklearn.datasets import load_boston\n",
    "import matplotlib.pyplot as plt\n",
    "from sklearn.model_selection import train_test_split\n",
    "import random\n",
    "from sklearn.metrics import mean_squared_error"
   ]
  },
  {
   "cell_type": "markdown",
   "id": "4c34695d",
   "metadata": {},
   "source": [
    "Loading and Preparing the Datasets:"
   ]
  },
  {
   "cell_type": "code",
   "execution_count": 452,
   "id": "1a7b0d25",
   "metadata": {},
   "outputs": [],
   "source": [
    "boston = load_boston()\n",
    "X_df=pd.DataFrame(boston.data)\n",
    "y_df=pd.DataFrame(boston.target)"
   ]
  },
  {
   "cell_type": "markdown",
   "id": "d8931651",
   "metadata": {},
   "source": [
    "Splitting the Data into Training and Test sets:"
   ]
  },
  {
   "cell_type": "code",
   "execution_count": 453,
   "id": "01ebca5f",
   "metadata": {},
   "outputs": [],
   "source": [
    "X_train, X_test, y_train, y_test = train_test_split(X_df,y_df,random_state=530)"
   ]
  },
  {
   "cell_type": "markdown",
   "id": "513827dd",
   "metadata": {},
   "source": [
    "a)"
   ]
  },
  {
   "cell_type": "markdown",
   "id": "118b353f",
   "metadata": {},
   "source": [
    "Function to create Bootstrapped training sets:"
   ]
  },
  {
   "cell_type": "code",
   "execution_count": 454,
   "id": "f8d855f4",
   "metadata": {},
   "outputs": [],
   "source": [
    "def Bootstrapp(X,y):\n",
    "    b_indices = np.random.randint(low=0, high=len(X), size=len(X))\n",
    "    y1=y.rename(columns={0:\"13\"})\n",
    "    Train_df = pd.concat([X,y1],axis=1)\n",
    "    BTS =  Train_df.iloc[b_indices]\n",
    "    return BTS"
   ]
  },
  {
   "cell_type": "code",
   "execution_count": 455,
   "id": "27042dd2",
   "metadata": {},
   "outputs": [
    {
     "data": {
      "text/html": [
       "<div>\n",
       "<style scoped>\n",
       "    .dataframe tbody tr th:only-of-type {\n",
       "        vertical-align: middle;\n",
       "    }\n",
       "\n",
       "    .dataframe tbody tr th {\n",
       "        vertical-align: top;\n",
       "    }\n",
       "\n",
       "    .dataframe thead th {\n",
       "        text-align: right;\n",
       "    }\n",
       "</style>\n",
       "<table border=\"1\" class=\"dataframe\">\n",
       "  <thead>\n",
       "    <tr style=\"text-align: right;\">\n",
       "      <th></th>\n",
       "      <th>0</th>\n",
       "      <th>1</th>\n",
       "      <th>2</th>\n",
       "      <th>3</th>\n",
       "      <th>4</th>\n",
       "      <th>5</th>\n",
       "      <th>6</th>\n",
       "      <th>7</th>\n",
       "      <th>8</th>\n",
       "      <th>9</th>\n",
       "      <th>10</th>\n",
       "      <th>11</th>\n",
       "      <th>12</th>\n",
       "      <th>13</th>\n",
       "    </tr>\n",
       "  </thead>\n",
       "  <tbody>\n",
       "    <tr>\n",
       "      <th>205</th>\n",
       "      <td>0.13642</td>\n",
       "      <td>0.0</td>\n",
       "      <td>10.59</td>\n",
       "      <td>0.0</td>\n",
       "      <td>0.489</td>\n",
       "      <td>5.891</td>\n",
       "      <td>22.3</td>\n",
       "      <td>3.9454</td>\n",
       "      <td>4.0</td>\n",
       "      <td>277.0</td>\n",
       "      <td>18.6</td>\n",
       "      <td>396.90</td>\n",
       "      <td>10.87</td>\n",
       "      <td>22.6</td>\n",
       "    </tr>\n",
       "    <tr>\n",
       "      <th>144</th>\n",
       "      <td>2.77974</td>\n",
       "      <td>0.0</td>\n",
       "      <td>19.58</td>\n",
       "      <td>0.0</td>\n",
       "      <td>0.871</td>\n",
       "      <td>4.903</td>\n",
       "      <td>97.8</td>\n",
       "      <td>1.3459</td>\n",
       "      <td>5.0</td>\n",
       "      <td>403.0</td>\n",
       "      <td>14.7</td>\n",
       "      <td>396.90</td>\n",
       "      <td>29.29</td>\n",
       "      <td>11.8</td>\n",
       "    </tr>\n",
       "    <tr>\n",
       "      <th>468</th>\n",
       "      <td>15.57570</td>\n",
       "      <td>0.0</td>\n",
       "      <td>18.10</td>\n",
       "      <td>0.0</td>\n",
       "      <td>0.580</td>\n",
       "      <td>5.926</td>\n",
       "      <td>71.0</td>\n",
       "      <td>2.9084</td>\n",
       "      <td>24.0</td>\n",
       "      <td>666.0</td>\n",
       "      <td>20.2</td>\n",
       "      <td>368.74</td>\n",
       "      <td>18.13</td>\n",
       "      <td>19.1</td>\n",
       "    </tr>\n",
       "    <tr>\n",
       "      <th>107</th>\n",
       "      <td>0.13117</td>\n",
       "      <td>0.0</td>\n",
       "      <td>8.56</td>\n",
       "      <td>0.0</td>\n",
       "      <td>0.520</td>\n",
       "      <td>6.127</td>\n",
       "      <td>85.2</td>\n",
       "      <td>2.1224</td>\n",
       "      <td>5.0</td>\n",
       "      <td>384.0</td>\n",
       "      <td>20.9</td>\n",
       "      <td>387.69</td>\n",
       "      <td>14.09</td>\n",
       "      <td>20.4</td>\n",
       "    </tr>\n",
       "    <tr>\n",
       "      <th>176</th>\n",
       "      <td>0.07022</td>\n",
       "      <td>0.0</td>\n",
       "      <td>4.05</td>\n",
       "      <td>0.0</td>\n",
       "      <td>0.510</td>\n",
       "      <td>6.020</td>\n",
       "      <td>47.2</td>\n",
       "      <td>3.5549</td>\n",
       "      <td>5.0</td>\n",
       "      <td>296.0</td>\n",
       "      <td>16.6</td>\n",
       "      <td>393.23</td>\n",
       "      <td>10.11</td>\n",
       "      <td>23.2</td>\n",
       "    </tr>\n",
       "    <tr>\n",
       "      <th>...</th>\n",
       "      <td>...</td>\n",
       "      <td>...</td>\n",
       "      <td>...</td>\n",
       "      <td>...</td>\n",
       "      <td>...</td>\n",
       "      <td>...</td>\n",
       "      <td>...</td>\n",
       "      <td>...</td>\n",
       "      <td>...</td>\n",
       "      <td>...</td>\n",
       "      <td>...</td>\n",
       "      <td>...</td>\n",
       "      <td>...</td>\n",
       "      <td>...</td>\n",
       "    </tr>\n",
       "    <tr>\n",
       "      <th>305</th>\n",
       "      <td>0.05479</td>\n",
       "      <td>33.0</td>\n",
       "      <td>2.18</td>\n",
       "      <td>0.0</td>\n",
       "      <td>0.472</td>\n",
       "      <td>6.616</td>\n",
       "      <td>58.1</td>\n",
       "      <td>3.3700</td>\n",
       "      <td>7.0</td>\n",
       "      <td>222.0</td>\n",
       "      <td>18.4</td>\n",
       "      <td>393.36</td>\n",
       "      <td>8.93</td>\n",
       "      <td>28.4</td>\n",
       "    </tr>\n",
       "    <tr>\n",
       "      <th>144</th>\n",
       "      <td>2.77974</td>\n",
       "      <td>0.0</td>\n",
       "      <td>19.58</td>\n",
       "      <td>0.0</td>\n",
       "      <td>0.871</td>\n",
       "      <td>4.903</td>\n",
       "      <td>97.8</td>\n",
       "      <td>1.3459</td>\n",
       "      <td>5.0</td>\n",
       "      <td>403.0</td>\n",
       "      <td>14.7</td>\n",
       "      <td>396.90</td>\n",
       "      <td>29.29</td>\n",
       "      <td>11.8</td>\n",
       "    </tr>\n",
       "    <tr>\n",
       "      <th>119</th>\n",
       "      <td>0.14476</td>\n",
       "      <td>0.0</td>\n",
       "      <td>10.01</td>\n",
       "      <td>0.0</td>\n",
       "      <td>0.547</td>\n",
       "      <td>5.731</td>\n",
       "      <td>65.2</td>\n",
       "      <td>2.7592</td>\n",
       "      <td>6.0</td>\n",
       "      <td>432.0</td>\n",
       "      <td>17.8</td>\n",
       "      <td>391.50</td>\n",
       "      <td>13.61</td>\n",
       "      <td>19.3</td>\n",
       "    </tr>\n",
       "    <tr>\n",
       "      <th>210</th>\n",
       "      <td>0.17446</td>\n",
       "      <td>0.0</td>\n",
       "      <td>10.59</td>\n",
       "      <td>1.0</td>\n",
       "      <td>0.489</td>\n",
       "      <td>5.960</td>\n",
       "      <td>92.1</td>\n",
       "      <td>3.8771</td>\n",
       "      <td>4.0</td>\n",
       "      <td>277.0</td>\n",
       "      <td>18.6</td>\n",
       "      <td>393.25</td>\n",
       "      <td>17.27</td>\n",
       "      <td>21.7</td>\n",
       "    </tr>\n",
       "    <tr>\n",
       "      <th>180</th>\n",
       "      <td>0.06588</td>\n",
       "      <td>0.0</td>\n",
       "      <td>2.46</td>\n",
       "      <td>0.0</td>\n",
       "      <td>0.488</td>\n",
       "      <td>7.765</td>\n",
       "      <td>83.3</td>\n",
       "      <td>2.7410</td>\n",
       "      <td>3.0</td>\n",
       "      <td>193.0</td>\n",
       "      <td>17.8</td>\n",
       "      <td>395.56</td>\n",
       "      <td>7.56</td>\n",
       "      <td>39.8</td>\n",
       "    </tr>\n",
       "  </tbody>\n",
       "</table>\n",
       "<p>379 rows × 14 columns</p>\n",
       "</div>"
      ],
      "text/plain": [
       "            0     1      2    3      4      5     6       7     8      9  \\\n",
       "205   0.13642   0.0  10.59  0.0  0.489  5.891  22.3  3.9454   4.0  277.0   \n",
       "144   2.77974   0.0  19.58  0.0  0.871  4.903  97.8  1.3459   5.0  403.0   \n",
       "468  15.57570   0.0  18.10  0.0  0.580  5.926  71.0  2.9084  24.0  666.0   \n",
       "107   0.13117   0.0   8.56  0.0  0.520  6.127  85.2  2.1224   5.0  384.0   \n",
       "176   0.07022   0.0   4.05  0.0  0.510  6.020  47.2  3.5549   5.0  296.0   \n",
       "..        ...   ...    ...  ...    ...    ...   ...     ...   ...    ...   \n",
       "305   0.05479  33.0   2.18  0.0  0.472  6.616  58.1  3.3700   7.0  222.0   \n",
       "144   2.77974   0.0  19.58  0.0  0.871  4.903  97.8  1.3459   5.0  403.0   \n",
       "119   0.14476   0.0  10.01  0.0  0.547  5.731  65.2  2.7592   6.0  432.0   \n",
       "210   0.17446   0.0  10.59  1.0  0.489  5.960  92.1  3.8771   4.0  277.0   \n",
       "180   0.06588   0.0   2.46  0.0  0.488  7.765  83.3  2.7410   3.0  193.0   \n",
       "\n",
       "       10      11     12    13  \n",
       "205  18.6  396.90  10.87  22.6  \n",
       "144  14.7  396.90  29.29  11.8  \n",
       "468  20.2  368.74  18.13  19.1  \n",
       "107  20.9  387.69  14.09  20.4  \n",
       "176  16.6  393.23  10.11  23.2  \n",
       "..    ...     ...    ...   ...  \n",
       "305  18.4  393.36   8.93  28.4  \n",
       "144  14.7  396.90  29.29  11.8  \n",
       "119  17.8  391.50  13.61  19.3  \n",
       "210  18.6  393.25  17.27  21.7  \n",
       "180  17.8  395.56   7.56  39.8  \n",
       "\n",
       "[379 rows x 14 columns]"
      ]
     },
     "execution_count": 455,
     "metadata": {},
     "output_type": "execute_result"
    }
   ],
   "source": [
    "Bootstrapp(X_train,y_train)"
   ]
  },
  {
   "cell_type": "markdown",
   "id": "b2886179",
   "metadata": {},
   "source": [
    "Class for Node:"
   ]
  },
  {
   "cell_type": "code",
   "execution_count": 456,
   "id": "8afea320",
   "metadata": {},
   "outputs": [],
   "source": [
    "class Node():\n",
    "    def __init__(self, ft_index=None, threshold=None, left=None, right=None, variance=None, value=None):        \n",
    "        #below are necessary for the decision node\n",
    "        self.ft_index = ft_index\n",
    "        self.threshold = threshold   #this is the value for the considered feature\n",
    "        self.left = left      #gives the left child from the decision node\n",
    "        self.right = right    #gives the right child from the decision node\n",
    "        self.variance = variance #stores the variance for the particular split node     \n",
    "        #below is necessary for the leaf node\n",
    "        self.value = value"
   ]
  },
  {
   "cell_type": "markdown",
   "id": "fa75e899",
   "metadata": {},
   "source": [
    "Class for Decicion Tree to implement Random Forest:"
   ]
  },
  {
   "cell_type": "code",
   "execution_count": 457,
   "id": "d0b93b80",
   "metadata": {},
   "outputs": [],
   "source": [
    "class RandomForest():\n",
    "    def __init__(self, min_samples_split=2, height=2):\n",
    "        self.root = None  #considered as the starting point\n",
    "        #below are the conditions to end the build tree, if not overfitting might occur\n",
    "        self.min_samples_split = min_samples_split\n",
    "        self.height = height\n",
    "    \n",
    "    def fit(self, dataset):\n",
    "        #This is just a function used to pass dataset, which calls build tree for the decision tree\n",
    "        self.root = self.build_tree(dataset.values)\n",
    "        \n",
    "    def build_tree(self, dataset,curr_depth=0):        \n",
    "        #this function is a recursive function used to built the tree\n",
    "        X, Y = dataset[:,:-1], dataset[:,-1]\n",
    "        num_samples, num_features = np.shape(X)\n",
    "        \n",
    "        best_split = {}\n",
    "        # Stopping conditions are checked until which the tree will be built\n",
    "        if num_samples>=self.min_samples_split and curr_depth<=self.height:\n",
    "            # Now we find the best split possible for the tree \n",
    "            best_split = self.best_split(dataset, num_samples,num_features)\n",
    "            # check if information gain is positive\n",
    "            if best_split[\"variance\"]>0:\n",
    "                #Recurring for the left tree\n",
    "                left_subtree = self.build_tree(best_split[\"dataset_left\"], curr_depth+1)\n",
    "                #Recurring for the right tree\n",
    "                right_subtree = self.build_tree(best_split[\"dataset_right\"], curr_depth+1)\n",
    "                #Return the node\n",
    "                return Node(best_split[\"ft_index\"], best_split[\"threshold\"], \n",
    "                            left_subtree, right_subtree, best_split[\"variance\"])\n",
    "        \n",
    "        #To calculate the average value of y of all points belonging to a particular leaf \n",
    "        \n",
    "        leaf_value = np.mean(Y)\n",
    "        Node(value=leaf_value)\n",
    "        # return leaf node\n",
    "        return Node(value=leaf_value)\n",
    "       \n",
    "    \n",
    "    def best_split(self, dataset, num_samples,num_features):\n",
    "        #This function returns a dictionary \n",
    "        best_split = {}\n",
    "        max_variance = -float(\"inf\")\n",
    "        n_rows,n_cols = dataset.shape \n",
    "        column = list(range(n_cols-1))\n",
    "        sample_feats = random.sample(population=column,k=5)\n",
    "        #A sample of attributes is considered at each node (p/3) approx 5 attributes\n",
    "        \n",
    "        #We loop through all the features and we traverse through all possible values that we have encountered(unique)\n",
    "        \n",
    "        for ft_index in sample_feats:\n",
    "            ft_vals = dataset[:, ft_index]\n",
    "            uniq_thresh = np.unique(ft_vals)\n",
    "            # loop over all the feature values present in the data\n",
    "            for threshold in uniq_thresh:\n",
    "                \n",
    "                #This function is to split the left and right datasets\n",
    "                dataset_left, dataset_right = self.split(dataset, ft_index, threshold)\n",
    "                # check if childs are not null\n",
    "                if len(dataset_left)>0 and len(dataset_right)>0:\n",
    "                    y, left_y, right_y = dataset[:, -1], dataset_left[:, -1], dataset_right[:, -1]\n",
    "                    #Using variance to calculate the information gain as it is a regression method\n",
    "                    curr_variance = self.variance_reduction(y, left_y, right_y)\n",
    "                    #We update the best split dictionary with the below values when the current variance is greater\n",
    "                    #than the previous variance \n",
    "                    if curr_variance>max_variance:\n",
    "                        best_split[\"ft_index\"] = ft_index\n",
    "                        best_split[\"threshold\"] = threshold\n",
    "                        best_split[\"dataset_left\"] = dataset_left\n",
    "                        best_split[\"dataset_right\"] = dataset_right\n",
    "                        best_split[\"variance\"] = curr_variance\n",
    "                        max_variance = curr_variance\n",
    "                    \n",
    "        return best_split\n",
    "    \n",
    "    def split(self, dataset, ft_index, threshold):\n",
    "\n",
    "        dataset_left = np.array([row for row in dataset if row[ft_index]<=threshold])\n",
    "        dataset_right = np.array([row for row in dataset if row[ft_index]>threshold])\n",
    "        return dataset_left, dataset_right\n",
    "    \n",
    "    def variance_reduction(self, parent, l_child, r_child):\n",
    "        #We subtract the combined variance of left and right from the combined variance of the parent \n",
    "        prob_left = len(l_child) / len(parent)\n",
    "        prob_right = len(r_child) / len(parent)\n",
    "        reduction = np.var(parent) - (prob_left * np.var(l_child) + prob_right * np.var(r_child))\n",
    "        return reduction\n",
    "    \n",
    "    def predict(self, X):\n",
    "        \n",
    "        preds = [self.predictions(x, self.root) for x in X]\n",
    "        return preds\n",
    "    \n",
    "    def predictions(self, x, tree):\n",
    "        \n",
    "        if tree.value!=None: return tree.value\n",
    "        feature_val = x[tree.ft_index]\n",
    "        if feature_val<=tree.threshold:\n",
    "            return self.predictions(x, tree.left)\n",
    "        else:\n",
    "            return self.predictions(x, tree.right)"
   ]
  },
  {
   "cell_type": "markdown",
   "id": "74d172f2",
   "metadata": {},
   "source": [
    "b)"
   ]
  },
  {
   "cell_type": "markdown",
   "id": "da4c5bd0",
   "metadata": {},
   "source": [
    "Using each BTS to train for each tree, where a sample of (p/3) attributes= approx 5 attributes where used:"
   ]
  },
  {
   "cell_type": "code",
   "execution_count": 458,
   "id": "a226f130",
   "metadata": {},
   "outputs": [],
   "source": [
    "F = RandomForest(min_samples_split=3,height=3)"
   ]
  },
  {
   "cell_type": "code",
   "execution_count": 459,
   "id": "aac67a6f",
   "metadata": {},
   "outputs": [],
   "source": [
    "def random_forest(X,y,n_trees,height):\n",
    "  \n",
    "    for i in range(n_trees):\n",
    "        BTS = Bootstrapp(X,y)    \n",
    "        tree = F.fit(BTS)"
   ]
  },
  {
   "cell_type": "markdown",
   "id": "dbd577ea",
   "metadata": {},
   "source": [
    "c)"
   ]
  },
  {
   "cell_type": "markdown",
   "id": "fa486711",
   "metadata": {},
   "source": [
    "MSE for training set and test set: B=100, height=3:"
   ]
  },
  {
   "cell_type": "code",
   "execution_count": 444,
   "id": "724fe147",
   "metadata": {},
   "outputs": [
    {
     "name": "stdout",
     "output_type": "stream",
     "text": [
      "8.943677400421517\n"
     ]
    }
   ],
   "source": [
    "random_forest(X_train,y_train,100,3)\n",
    "Y_pred = F.predict(X_train.values) \n",
    "mse_tr=np.sqrt(mean_squared_error(y_train.values, Y_pred))\n",
    "print(mse_tr)"
   ]
  },
  {
   "cell_type": "code",
   "execution_count": 445,
   "id": "86ca26d1",
   "metadata": {},
   "outputs": [
    {
     "name": "stdout",
     "output_type": "stream",
     "text": [
      "9.836106071169423\n"
     ]
    }
   ],
   "source": [
    "Y_pred1 = F.predict(X_test.values) \n",
    "mse_te=np.sqrt(mean_squared_error(y_test.values, Y_pred1))\n",
    "print(mse_te)"
   ]
  },
  {
   "cell_type": "markdown",
   "id": "e200e305",
   "metadata": {},
   "source": [
    "d)"
   ]
  },
  {
   "cell_type": "markdown",
   "id": "94d40dc8",
   "metadata": {},
   "source": [
    "MSE for different values of B and h:"
   ]
  },
  {
   "cell_type": "code",
   "execution_count": 301,
   "id": "3a3f8323",
   "metadata": {
    "scrolled": true
   },
   "outputs": [],
   "source": [
    "B=[100,120,130,140,150]\n",
    "tr_vals=[]\n",
    "te_vals=[]\n",
    "for i in B:\n",
    "    random_forest(X_train,y_train,i,3)\n",
    "    Y_pred = F.predict(X_train.values)\n",
    "    tr=np.sqrt(mean_squared_error(y_train.values, Y_pred))\n",
    "    tr_vals.append(tr)\n",
    "    Y_pred1 = F.predict(X_test.values)\n",
    "    te=np.sqrt(mean_squared_error(y_test.values, Y_pred1))\n",
    "    te_vals.append(te)"
   ]
  },
  {
   "cell_type": "code",
   "execution_count": 302,
   "id": "996889aa",
   "metadata": {},
   "outputs": [
    {
     "data": {
      "text/plain": [
       "[4.363627565306588,\n",
       " 4.367071693444946,\n",
       " 4.4176333203706335,\n",
       " 5.076211808775973,\n",
       " 4.162304171765976]"
      ]
     },
     "execution_count": 302,
     "metadata": {},
     "output_type": "execute_result"
    }
   ],
   "source": [
    "tr_vals"
   ]
  },
  {
   "cell_type": "code",
   "execution_count": 303,
   "id": "2293899f",
   "metadata": {},
   "outputs": [
    {
     "data": {
      "text/plain": [
       "[6.132018486564442,\n",
       " 5.317334300619827,\n",
       " 5.634915438725028,\n",
       " 5.639025350773261,\n",
       " 5.834782812541814]"
      ]
     },
     "execution_count": 303,
     "metadata": {},
     "output_type": "execute_result"
    }
   ],
   "source": [
    "te_vals"
   ]
  },
  {
   "cell_type": "code",
   "execution_count": 449,
   "id": "c585f905",
   "metadata": {},
   "outputs": [
    {
     "data": {
      "text/plain": [
       "<matplotlib.legend.Legend at 0x7fdd987ed5e0>"
      ]
     },
     "execution_count": 449,
     "metadata": {},
     "output_type": "execute_result"
    },
    {
     "data": {
      "image/png": "[encoded data removed]",
      "text/plain": [
       "<Figure size 432x288 with 1 Axes>"
      ]
     },
     "metadata": {
      "needs_background": "light"
     },
     "output_type": "display_data"
    }
   ],
   "source": [
    "plt.plot(B,tr_vals,'or')\n",
    "plt.plot(B,te_vals,'ob')\n",
    "plt.xlabel(\"BTS\")\n",
    "plt.ylabel(\"MSE\")\n",
    "plt.legend(['Trainset','Testset'])"
   ]
  }
 ],
 "metadata": {
  "kernelspec": {
   "display_name": "Python 3",
   "language": "python",
   "name": "python3"
  },
  "language_info": {
   "codemirror_mode": {
    "name": "ipython",
    "version": 3
   },
   "file_extension": ".py",
   "mimetype": "text/x-python",
   "name": "python",
   "nbconvert_exporter": "python",
   "pygments_lexer": "ipython3",
   "version": "3.8.8"
  }
 },
 "nbformat": 4,
 "nbformat_minor": 5
}
